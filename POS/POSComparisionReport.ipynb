{
  "cells": [
    {
      "cell_type": "markdown",
      "metadata": {},
      "source": [
        "# 🏞️ Woodland Play Cafe - Clean Data Analysis\n",
        "\n",
        "**Purpose**: Find missing records in tax report and identify amount mismatches\n",
        "\n",
        "**Key Features**:\n",
        "- Proper grouping by Order ID\n",
        "- Comprehensive missing data analysis\n",
        "- Amount mismatch detection\n",
        "- Clean, organized output\n"
      ]
    },
    {
      "cell_type": "code",
      "execution_count": 45,
      "metadata": {},
      "outputs": [
        {
          "name": "stdout",
          "output_type": "stream",
          "text": [
            "📊 Libraries imported successfully!\n"
          ]
        }
      ],
      "source": [
        "# Import required libraries\n",
        "import pandas as pd\n",
        "import numpy as np\n",
        "from datetime import datetime\n",
        "\n",
        "print(\"📊 Libraries imported successfully!\")\n"
      ]
    },
    {
      "cell_type": "code",
      "execution_count": 46,
      "metadata": {},
      "outputs": [
        {
          "name": "stdout",
          "output_type": "stream",
          "text": [
            "📂 Loading data files...\n",
            "   • Transaction Report: 1,913 records\n",
            "   • Tax Report: 918 records\n"
          ]
        }
      ],
      "source": [
        "# Load data files\n",
        "print(\"📂 Loading data files...\")\n",
        "\n",
        "WoodTrans = pd.read_excel(\"/Users/vijayaraghavandevaraj/Downloads/Wood - TransReport.xlsx\")\n",
        "WoodTax = pd.read_excel(\"/Users/vijayaraghavandevaraj/Downloads/Wood - Tax Report.xlsx\")\n",
        "\n",
        "print(f\"   • Transaction Report: {len(WoodTrans):,} records\")\n",
        "print(f\"   • Tax Report: {len(WoodTax):,} records\")\n"
      ]
    },
    {
      "cell_type": "code",
      "execution_count": 47,
      "metadata": {},
      "outputs": [
        {
          "name": "stdout",
          "output_type": "stream",
          "text": [
            "🔧 Preparing data for August 2025 analysis...\n",
            "   • August transactions: 699 records\n",
            "   • August tax records: 693 records\n"
          ]
        }
      ],
      "source": [
        "# Prepare and filter data for August 2025\n",
        "print(\"🔧 Preparing data for August 2025 analysis...\")\n",
        "\n",
        "# Transaction data preparation\n",
        "trans_pos_df = WoodTrans[WoodTrans['Source'] == 'pos'].copy()\n",
        "trans_pos_df['Transaction Type'] = 'sale'\n",
        "trans_pos_df['Module'] = np.where(\n",
        "    trans_pos_df['Order ID'].astype(str).str.startswith('MEM'),\n",
        "    'memberships', \n",
        "    trans_pos_df['Source']\n",
        ")\n",
        "trans_pos_module_df = trans_pos_df[trans_pos_df['Module'] == 'pos'].copy()\n",
        "trans_pos_module_df['Transaction Date'] = pd.to_datetime(trans_pos_module_df['Transaction Date'])\n",
        "trans_pos_module_df['Month'] = trans_pos_module_df['Transaction Date'].dt.to_period('M')\n",
        "\n",
        "# Tax data preparation\n",
        "tax_pos_df = WoodTax[WoodTax['Module Name'] == 'pos'].copy()\n",
        "tax_pos_df['Date'] = pd.to_datetime(tax_pos_df['Date'])\n",
        "tax_pos_df['Month'] = tax_pos_df['Date'].dt.to_period('M')\n",
        "\n",
        "# Filter for August 2025\n",
        "target_month = \"2025-08\"\n",
        "trans_aug = trans_pos_module_df[trans_pos_module_df['Month'] == target_month]\n",
        "tax_aug = tax_pos_df[tax_pos_df['Month'] == target_month]\n",
        "\n",
        "print(f\"   • August transactions: {len(trans_aug):,} records\")\n",
        "print(f\"   • August tax records: {len(tax_aug):,} records\")\n"
      ]
    },
    {
      "cell_type": "code",
      "execution_count": 48,
      "metadata": {},
      "outputs": [
        {
          "name": "stdout",
          "output_type": "stream",
          "text": [
            "🔄 Grouping transaction data by Order ID (CRITICAL STEP)...\n",
            "   • Original transaction records: 699\n",
            "   • Unique Order IDs (grouped): 696\n",
            "   ✅ Now properly comparing unique orders vs tax records\n"
          ]
        }
      ],
      "source": [
        "# CRITICAL: Group transaction data by Order ID\n",
        "print(\"🔄 Grouping transaction data by Order ID (CRITICAL STEP)...\")\n",
        "\n",
        "trans_aug_grouped = trans_aug.groupby('Order ID').agg({\n",
        "    'Amount': 'sum',\n",
        "    'Transaction Date': 'first',\n",
        "    'Location': 'first',\n",
        "    'Payment Type': 'first',\n",
        "    'Payment Gateway': 'first'\n",
        "}).reset_index()\n",
        "\n",
        "print(f\"   • Original transaction records: {len(trans_aug):,}\")\n",
        "print(f\"   • Unique Order IDs (grouped): {len(trans_aug_grouped):,}\")\n",
        "print(\"   ✅ Now properly comparing unique orders vs tax records\")\n"
      ]
    },
    {
      "cell_type": "code",
      "execution_count": 49,
      "metadata": {},
      "outputs": [
        {
          "name": "stdout",
          "output_type": "stream",
          "text": [
            "🔍 Finding missing records in tax report...\n",
            "   • Missing records: 3\n",
            "   • Missing amount: $399.99\n",
            "\n",
            "   📋 Missing Order IDs:\n",
            "       1. 1754594250742 | $ 14.54 | 08/07 | physicalCard\n",
            "       2. 1756325127801 | $ 31.82 | 08/27 | physicalCard\n",
            "       3. 1755643008336 | $353.63 | 08/31 | physicalCard\n"
          ]
        }
      ],
      "source": [
        "# Find missing records in tax report\n",
        "print(\"🔍 Finding missing records in tax report...\")\n",
        "\n",
        "missing_in_tax = trans_aug_grouped[~trans_aug_grouped['Order ID'].isin(tax_aug['Order ID'])]\n",
        "\n",
        "if len(missing_in_tax) > 0:\n",
        "    print(f\"   • Missing records: {len(missing_in_tax)}\")\n",
        "    print(f\"   • Missing amount: ${missing_in_tax['Amount'].sum():.2f}\")\n",
        "    \n",
        "    print(f\"\\n   📋 Missing Order IDs:\")\n",
        "    missing_details = missing_in_tax[['Order ID', 'Transaction Date', 'Amount', 'Location', 'Payment Type']].copy()\n",
        "    missing_details = missing_details.sort_values('Transaction Date')\n",
        "    \n",
        "    for i, (_, row) in enumerate(missing_details.iterrows(), 1):\n",
        "        print(f\"      {i:2d}. {row['Order ID']} | ${row['Amount']:6.2f} | {row['Transaction Date'].strftime('%m/%d')} | {row['Payment Type']}\")\n",
        "else:\n",
        "    print(\"   ✅ No missing records found!\")\n"
      ]
    },
    {
      "cell_type": "code",
      "execution_count": 50,
      "metadata": {},
      "outputs": [
        {
          "name": "stdout",
          "output_type": "stream",
          "text": [
            "💰 Finding amount mismatches...\n",
            "   • Total matching orders: 693\n",
            "   • Orders with amount differences: 0\n",
            "   ✅ No significant amount mismatches found!\n"
          ]
        }
      ],
      "source": [
        "# Find amount mismatches between reports\n",
        "print(\"💰 Finding amount mismatches...\")\n",
        "\n",
        "# Find common orders and merge for comparison\n",
        "common_orders = trans_aug_grouped[trans_aug_grouped['Order ID'].isin(tax_aug['Order ID'])].copy()\n",
        "common_tax_orders = tax_aug[tax_aug['Order ID'].isin(trans_aug_grouped['Order ID'])].copy()\n",
        "\n",
        "merged_comparison = pd.merge(\n",
        "    common_orders[['Order ID', 'Amount', 'Transaction Date', 'Location']], \n",
        "    common_tax_orders[['Order ID', 'Total Sum', 'Tip', 'Tax']], \n",
        "    on='Order ID', \n",
        "    how='inner'\n",
        ")\n",
        "\n",
        "# Calculate differences\n",
        "merged_comparison['Amount_Diff'] = merged_comparison['Amount'] - merged_comparison['Total Sum']\n",
        "merged_comparison['Abs_Diff'] = abs(merged_comparison['Amount_Diff'])\n",
        "\n",
        "# Find significant mismatches\n",
        "significant_mismatches = merged_comparison[merged_comparison['Abs_Diff'] > 0.01]\n",
        "\n",
        "print(f\"   • Total matching orders: {len(merged_comparison):,}\")\n",
        "print(f\"   • Orders with amount differences: {len(significant_mismatches)}\")\n",
        "\n",
        "if len(significant_mismatches) > 0:\n",
        "    print(f\"   • Total discrepancy: ${merged_comparison['Amount_Diff'].sum():.2f}\")\n",
        "    \n",
        "    print(f\"\\n   🔍 Amount Differences:\")\n",
        "    mismatch_details = significant_mismatches[['Order ID', 'Amount', 'Total Sum', 'Amount_Diff', 'Abs_Diff']].copy()\n",
        "    mismatch_details = mismatch_details.sort_values('Abs_Diff', ascending=False)\n",
        "    \n",
        "    for i, (_, row) in enumerate(mismatch_details.iterrows(), 1):\n",
        "        print(f\"      {i:2d}. {row['Order ID']} | Trans: ${row['Amount']:6.2f} | Tax: ${row['Total Sum']:6.2f} | Diff: ${row['Amount_Diff']:+6.2f}\")\n",
        "else:\n",
        "    print(\"   ✅ No significant amount mismatches found!\")\n"
      ]
    },
    {
      "cell_type": "code",
      "execution_count": 51,
      "metadata": {},
      "outputs": [
        {
          "name": "stdout",
          "output_type": "stream",
          "text": [
            "================================================================================\n",
            "TALLY SUMMARY - EASY REFERENCE\n",
            "================================================================================\n",
            "📊 OVERALL TALLY:\n",
            "   • Total records in trans_aug: 699\n",
            "   • Total records in tax_aug: 693\n",
            "   • Total matching records: 693\n",
            "   • Records missing in tax_aug: 3\n",
            "   • Records with amount differences: 0\n",
            "\n",
            "💰 AMOUNT TALLY:\n",
            "   • Total transaction amount (August): $9841.10\n",
            "   • Total tax report amount (August): $9441.11\n",
            "   • Difference (Trans - Tax): $399.99\n",
            "   • Total missing transaction value: $399.99\n",
            "   • Total amount discrepancy: $-0.00\n",
            "\n",
            "📋 MISSING RECORD TALLY:\n",
            "    1. Order ID: 1754594250742 | Amount: $ 14.54 | Date: 08/07 | Payment: physicalCard\n",
            "    2. Order ID: 1755643008336 | Amount: $353.63 | Date: 08/31 | Payment: physicalCard\n",
            "    3. Order ID: 1756325127801 | Amount: $ 31.82 | Date: 08/27 | Payment: physicalCard\n",
            "\n",
            "🔍 AMOUNT DIFFERENCE TALLY:\n",
            "\n",
            "================================================================================\n"
          ]
        }
      ],
      "source": [
        "# TALLY SUMMARY FOR EASY REFERENCE\n",
        "\n",
        "print(\"=\"*80)\n",
        "print(\"TALLY SUMMARY - EASY REFERENCE\")\n",
        "print(\"=\"*80)\n",
        "\n",
        "print(\"📊 OVERALL TALLY:\")\n",
        "print(f\"   • Total records in trans_aug: {len(trans_aug)}\")\n",
        "print(f\"   • Total records in tax_aug: {len(tax_aug)}\")\n",
        "print(f\"   • Total matching records: {len(merged_comparison)}\")\n",
        "print(f\"   • Records missing in tax_aug: {len(missing_in_tax)}\")\n",
        "print(f\"   • Records with amount differences: {len(significant_mismatches)}\")\n",
        "\n",
        "print(f\"\\n💰 AMOUNT TALLY:\")\n",
        "print(f\"   • Total transaction amount (August): ${trans_aug_grouped['Amount'].sum():.2f}\")\n",
        "print(f\"   • Total tax report amount (August): ${tax_aug['Total Sum'].sum():.2f}\")\n",
        "print(f\"   • Difference (Trans - Tax): ${trans_aug_grouped['Amount'].sum() - tax_aug['Total Sum'].sum():.2f}\")\n",
        "print(f\"   • Total missing transaction value: ${missing_in_tax['Amount'].sum():.2f}\")\n",
        "print(f\"   • Total amount discrepancy: ${merged_comparison['Amount_Diff'].sum():.2f}\")\n",
        "\n",
        "print(f\"\\n📋 MISSING RECORD TALLY:\")\n",
        "if len(missing_in_tax) > 0:\n",
        "    for i, (idx, row) in enumerate(missing_in_tax.iterrows(), 1):\n",
        "        print(f\"   {i:2d}. Order ID: {row['Order ID']} | Amount: ${row['Amount']:6.2f} | Date: {row['Transaction Date'].strftime('%m/%d')} | Payment: {row['Payment Type']}\")\n",
        "\n",
        "print(f\"\\n🔍 AMOUNT DIFFERENCE TALLY:\")\n",
        "if len(significant_mismatches) > 0:\n",
        "    for i, (idx, row) in enumerate(significant_mismatches.iterrows(), 1):\n",
        "        print(f\"   {i:2d}. Order ID: {row['Order ID']} | Trans: ${row['Amount']:6.2f} | Tax: ${row['Total Sum']:6.2f} | Diff: ${row['Amount_Diff']:+6.2f}\")\n",
        "\n",
        "print(\"\\n\" + \"=\"*80)\n"
      ]
    }
  ],
  "metadata": {
    "kernelspec": {
      "display_name": "Python 3",
      "language": "python",
      "name": "python3"
    },
    "language_info": {
      "codemirror_mode": {
        "name": "ipython",
        "version": 3
      },
      "file_extension": ".py",
      "mimetype": "text/x-python",
      "name": "python",
      "nbconvert_exporter": "python",
      "pygments_lexer": "ipython3",
      "version": "3.13.5"
    }
  },
  "nbformat": 4,
  "nbformat_minor": 2
}
